{
 "cells": [
  {
   "cell_type": "code",
   "execution_count": 17,
   "metadata": {},
   "outputs": [
    {
     "name": "stdout",
     "output_type": "stream",
     "text": [
      "6\n"
     ]
    }
   ],
   "source": [
    "from collections import deque\n",
    "\n",
    "deq = deque([3], maxlen= 3)\n",
    "deq.append(4)\n",
    "deq.append(5)\n",
    "deq.append(6)\n",
    "print(deq[-1])"
   ]
  },
  {
   "cell_type": "code",
   "execution_count": 3,
   "metadata": {},
   "outputs": [
    {
     "name": "stdout",
     "output_type": "stream",
     "text": [
      "(1, 4)\n"
     ]
    }
   ],
   "source": [
    "import h5py\n",
    "\n",
    "FILENAME = '/home/renas/pythonprogv2/phd_xiaor_project/TSA_dataset/nav/tsa-trajs2024-03-10_20-39-48.h5'\n",
    "\n",
    "with h5py.File(FILENAME, 'r') as file:\n",
    "    im = file['states']['data_0'][:]\n",
    "    actions = file['actions']['data_0'][:]\n",
    "\n",
    "print(actions.shape)"
   ]
  },
  {
   "cell_type": "code",
   "execution_count": 40,
   "metadata": {},
   "outputs": [],
   "source": [
    "import rospy\n",
    "import tf\n",
    "\n",
    "rospy.init_node('pose_extractor')\n",
    "\n",
    "listener = tf.TransformListener()\n",
    "\n",
    "rate = rospy.Rate(10.0)\n",
    "while not rospy.is_shutdown():\n",
    "    try:\n",
    "        # Look up the transformation from target frame to source frame\n",
    "        (trans, rot) = listener.lookupTransform('/map', '/base_link', rospy.Time(0))\n",
    "        print(\"Translation: \", trans)\n",
    "        print(\"Rotation (quaternion): \", rot)\n",
    "    except (tf.LookupException, tf.ConnectivityException, tf.ExtrapolationException):\n",
    "        continue\n",
    "\n",
    "    rate.sleep()\n"
   ]
  },
  {
   "cell_type": "code",
   "execution_count": 6,
   "metadata": {},
   "outputs": [
    {
     "name": "stdout",
     "output_type": "stream",
     "text": [
      "red\n"
     ]
    }
   ],
   "source": [
    "class Dog():\n",
    "    def __init__(self, legs):\n",
    "\n",
    "        class Toy():\n",
    "            def __init__(self, colour):\n",
    "                self.colour = colour\n",
    "\n",
    "        self.legs =legs\n",
    "        self.toy = Toy(colour = 'red')\n",
    "    \n",
    "\n",
    "\n",
    "\n",
    "\n",
    "sharik = Dog(legs=4)\n",
    "print(sharik.toy.colour)"
   ]
  }
 ],
 "metadata": {
  "kernelspec": {
   "display_name": "Python 3",
   "language": "python",
   "name": "python3"
  },
  "language_info": {
   "codemirror_mode": {
    "name": "ipython",
    "version": 3
   },
   "file_extension": ".py",
   "mimetype": "text/x-python",
   "name": "python",
   "nbconvert_exporter": "python",
   "pygments_lexer": "ipython3",
   "version": "3.8.18"
  }
 },
 "nbformat": 4,
 "nbformat_minor": 2
}
